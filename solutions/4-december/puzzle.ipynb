{
 "cells": [
  {
   "cell_type": "markdown",
   "metadata": {},
   "source": [
    "To help prioritize item rearrangement, every item type can be converted to a priority:\n",
    "\n",
    "Lowercase item types a through z have priorities 1 through 26.\n",
    "Uppercase item types A through Z have priorities 27 through 52.\n"
   ]
  },
  {
   "cell_type": "code",
   "execution_count": 40,
   "metadata": {},
   "outputs": [
    {
     "name": "stdout",
     "output_type": "stream",
     "text": [
      "7674\n"
     ]
    }
   ],
   "source": [
    "import csv\n",
    "\n",
    "total = 0\n",
    "\n",
    "def get_proirity(s, unicode_integer):\n",
    "    if s.isupper(): \n",
    "        return unicode_integer - 38\n",
    "    else:\n",
    "        return unicode_integer - 96\n",
    "        \n",
    "\n",
    "with open('input.txt') as csv_file:\n",
    "    csv_reader = csv.reader(csv_file, delimiter=' ')\n",
    "    for row in csv_reader:\n",
    "        all_items = row[0]\n",
    "        number_of_items = len(all_items)\n",
    "        compartment_1 = all_items[slice(0, number_of_items//2)]\n",
    "        compartment_2 = all_items[slice(number_of_items//2, number_of_items)]\n",
    "        common_item = set(compartment_1).intersection(compartment_2).pop()\n",
    "\n",
    "        unicode_integer = ord(common_item)\n",
    "\n",
    "        priority = 0\n",
    "\n",
    "        total += get_proirity(common_item, unicode_integer)"
   ]
  },
  {
   "cell_type": "code",
   "execution_count": 41,
   "metadata": {},
   "outputs": [
    {
     "name": "stdout",
     "output_type": "stream",
     "text": [
      "7674\n"
     ]
    }
   ],
   "source": [
    "# Answer part 1\n",
    "print(total)"
   ]
  }
 ],
 "metadata": {
  "kernelspec": {
   "display_name": "Python 3.10.6 64-bit",
   "language": "python",
   "name": "python3"
  },
  "language_info": {
   "codemirror_mode": {
    "name": "ipython",
    "version": 3
   },
   "file_extension": ".py",
   "mimetype": "text/x-python",
   "name": "python",
   "nbconvert_exporter": "python",
   "pygments_lexer": "ipython3",
   "version": "3.10.6"
  },
  "orig_nbformat": 4,
  "vscode": {
   "interpreter": {
    "hash": "aee8b7b246df8f9039afb4144a1f6fd8d2ca17a180786b69acc140d282b71a49"
   }
  }
 },
 "nbformat": 4,
 "nbformat_minor": 2
}
